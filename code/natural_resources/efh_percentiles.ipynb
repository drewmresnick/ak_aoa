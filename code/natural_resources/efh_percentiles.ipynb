{
 "cells": [
  {
   "cell_type": "code",
   "execution_count": 28,
   "metadata": {},
   "outputs": [],
   "source": [
    "import arcpy\n",
    "import os"
   ]
  },
  {
   "cell_type": "code",
   "execution_count": 44,
   "metadata": {},
   "outputs": [],
   "source": [
    "# Set workspace\n",
    "arcpy.env.workspace = r\"C:\\Users\\Breanna.Xiong\\Documents\\R Scripts\\ak_aoa\\data\\aa_exploration_data\\natural_resources\\EFH Percentiles Maps (Shapefile)\\source\""
   ]
  },
  {
   "cell_type": "code",
   "execution_count": 52,
   "metadata": {},
   "outputs": [],
   "source": [
    "# Set folders\n",
    "folder_50th = r\"C:\\Users\\Breanna.Xiong\\Documents\\R Scripts\\ak_aoa\\data\\aa_exploration_data\\natural_resources\\EFH Percentiles Maps (Shapefile)\\50th Percentile (layer 4, 5)\"\n",
    "folder_95th = r\"C:\\Users\\Breanna.Xiong\\Documents\\R Scripts\\ak_aoa\\data\\aa_exploration_data\\natural_resources\\EFH Percentiles Maps (Shapefile)\\95th Percentile (layer 2, 3, 4, 5)\""
   ]
  },
  {
   "cell_type": "code",
   "execution_count": 53,
   "metadata": {},
   "outputs": [],
   "source": [
    "# Get file names of all the EFH\n",
    "\n",
    "raw_path = []\n",
    "raw_name = []\n",
    "\n",
    "walk = arcpy.da.Walk(datatype=\"FeatureClass\")\n",
    "\n",
    "for dir_path, dir_names, file_names in walk:\n",
    "    for filename in file_names:\n",
    "        path = os.path.join(dir_path, filename)\n",
    "        raw_path.append(path) \n",
    "        \n",
    "        name = filename\n",
    "        base_name, extension = os.path.splitext(name)\n",
    "        raw_name.append(base_name)\n",
    "        \n",
    "        "
   ]
  },
  {
   "cell_type": "code",
   "execution_count": 54,
   "metadata": {},
   "outputs": [
    {
     "name": "stdout",
     "output_type": "stream",
     "text": [
      "['C:\\\\Users\\\\Breanna.Xiong\\\\Documents\\\\R Scripts\\\\ak_aoa\\\\data\\\\aa_exploration_data\\\\natural_resources\\\\EFH Percentiles Maps (Shapefile)\\\\source\\\\pcod_ej.shp', 'C:\\\\Users\\\\Breanna.Xiong\\\\Documents\\\\R Scripts\\\\ak_aoa\\\\data\\\\aa_exploration_data\\\\natural_resources\\\\EFH Percentiles Maps (Shapefile)\\\\source\\\\pollock_ej.shp', 'C:\\\\Users\\\\Breanna.Xiong\\\\Documents\\\\R Scripts\\\\ak_aoa\\\\data\\\\aa_exploration_data\\\\natural_resources\\\\EFH Percentiles Maps (Shapefile)\\\\source\\\\POP_ej.shp', 'C:\\\\Users\\\\Breanna.Xiong\\\\Documents\\\\R Scripts\\\\ak_aoa\\\\data\\\\aa_exploration_data\\\\natural_resources\\\\EFH Percentiles Maps (Shapefile)\\\\source\\\\rocksole_ej.shp', 'C:\\\\Users\\\\Breanna.Xiong\\\\Documents\\\\R Scripts\\\\ak_aoa\\\\data\\\\aa_exploration_data\\\\natural_resources\\\\EFH Percentiles Maps (Shapefile)\\\\source\\\\sablefish_ej.shp', 'C:\\\\Users\\\\Breanna.Xiong\\\\Documents\\\\R Scripts\\\\ak_aoa\\\\data\\\\aa_exploration_data\\\\natural_resources\\\\EFH Percentiles Maps (Shapefile)\\\\source\\\\starryflounder_ej.shp', 'C:\\\\Users\\\\Breanna.Xiong\\\\Documents\\\\R Scripts\\\\ak_aoa\\\\data\\\\aa_exploration_data\\\\natural_resources\\\\EFH Percentiles Maps (Shapefile)\\\\source\\\\yellowfinsole_ej.shp']\n"
     ]
    }
   ],
   "source": [
    "print(raw_path)"
   ]
  },
  {
   "cell_type": "code",
   "execution_count": 55,
   "metadata": {},
   "outputs": [
    {
     "name": "stdout",
     "output_type": "stream",
     "text": [
      "['pcod_ej', 'pollock_ej', 'POP_ej', 'rocksole_ej', 'sablefish_ej', 'starryflounder_ej', 'yellowfinsole_ej']\n"
     ]
    }
   ],
   "source": [
    "print(raw_name)"
   ]
  },
  {
   "cell_type": "code",
   "execution_count": 62,
   "metadata": {},
   "outputs": [],
   "source": [
    "# Create new name\n",
    "\n",
    "new_path_95th = []\n",
    "new_path_50th = []\n",
    "\n",
    "for file in raw_name:\n",
    "    # Split the file path into the base name and extension\n",
    "\n",
    "    new_name_95th = (f'{folder_95th}\\\\{file}_95th{extension}')\n",
    "    new_path_95th.append(new_name_95th)\n",
    "    \n",
    "    new_name_50th = (f'{folder_50th}\\\\{file}_50th{extension}')\n",
    "    new_path_50th.append(new_name_50th)"
   ]
  },
  {
   "cell_type": "code",
   "execution_count": 63,
   "metadata": {},
   "outputs": [
    {
     "name": "stdout",
     "output_type": "stream",
     "text": [
      "['C:\\\\Users\\\\Breanna.Xiong\\\\Documents\\\\R Scripts\\\\ak_aoa\\\\data\\\\aa_exploration_data\\\\natural_resources\\\\EFH Percentiles Maps (Shapefile)\\\\95th Percentile (layer 2, 3, 4, 5)\\\\pcod_ej_95th.shp', 'C:\\\\Users\\\\Breanna.Xiong\\\\Documents\\\\R Scripts\\\\ak_aoa\\\\data\\\\aa_exploration_data\\\\natural_resources\\\\EFH Percentiles Maps (Shapefile)\\\\95th Percentile (layer 2, 3, 4, 5)\\\\pollock_ej_95th.shp', 'C:\\\\Users\\\\Breanna.Xiong\\\\Documents\\\\R Scripts\\\\ak_aoa\\\\data\\\\aa_exploration_data\\\\natural_resources\\\\EFH Percentiles Maps (Shapefile)\\\\95th Percentile (layer 2, 3, 4, 5)\\\\POP_ej_95th.shp', 'C:\\\\Users\\\\Breanna.Xiong\\\\Documents\\\\R Scripts\\\\ak_aoa\\\\data\\\\aa_exploration_data\\\\natural_resources\\\\EFH Percentiles Maps (Shapefile)\\\\95th Percentile (layer 2, 3, 4, 5)\\\\rocksole_ej_95th.shp', 'C:\\\\Users\\\\Breanna.Xiong\\\\Documents\\\\R Scripts\\\\ak_aoa\\\\data\\\\aa_exploration_data\\\\natural_resources\\\\EFH Percentiles Maps (Shapefile)\\\\95th Percentile (layer 2, 3, 4, 5)\\\\sablefish_ej_95th.shp', 'C:\\\\Users\\\\Breanna.Xiong\\\\Documents\\\\R Scripts\\\\ak_aoa\\\\data\\\\aa_exploration_data\\\\natural_resources\\\\EFH Percentiles Maps (Shapefile)\\\\95th Percentile (layer 2, 3, 4, 5)\\\\starryflounder_ej_95th.shp', 'C:\\\\Users\\\\Breanna.Xiong\\\\Documents\\\\R Scripts\\\\ak_aoa\\\\data\\\\aa_exploration_data\\\\natural_resources\\\\EFH Percentiles Maps (Shapefile)\\\\95th Percentile (layer 2, 3, 4, 5)\\\\yellowfinsole_ej_95th.shp']\n"
     ]
    }
   ],
   "source": [
    "print(new_path_95th)"
   ]
  },
  {
   "cell_type": "code",
   "execution_count": 64,
   "metadata": {},
   "outputs": [
    {
     "name": "stdout",
     "output_type": "stream",
     "text": [
      "['C:\\\\Users\\\\Breanna.Xiong\\\\Documents\\\\R Scripts\\\\ak_aoa\\\\data\\\\aa_exploration_data\\\\natural_resources\\\\EFH Percentiles Maps (Shapefile)\\\\50th Percentile (layer 4, 5)\\\\pcod_ej_50th.shp', 'C:\\\\Users\\\\Breanna.Xiong\\\\Documents\\\\R Scripts\\\\ak_aoa\\\\data\\\\aa_exploration_data\\\\natural_resources\\\\EFH Percentiles Maps (Shapefile)\\\\50th Percentile (layer 4, 5)\\\\pollock_ej_50th.shp', 'C:\\\\Users\\\\Breanna.Xiong\\\\Documents\\\\R Scripts\\\\ak_aoa\\\\data\\\\aa_exploration_data\\\\natural_resources\\\\EFH Percentiles Maps (Shapefile)\\\\50th Percentile (layer 4, 5)\\\\POP_ej_50th.shp', 'C:\\\\Users\\\\Breanna.Xiong\\\\Documents\\\\R Scripts\\\\ak_aoa\\\\data\\\\aa_exploration_data\\\\natural_resources\\\\EFH Percentiles Maps (Shapefile)\\\\50th Percentile (layer 4, 5)\\\\rocksole_ej_50th.shp', 'C:\\\\Users\\\\Breanna.Xiong\\\\Documents\\\\R Scripts\\\\ak_aoa\\\\data\\\\aa_exploration_data\\\\natural_resources\\\\EFH Percentiles Maps (Shapefile)\\\\50th Percentile (layer 4, 5)\\\\sablefish_ej_50th.shp', 'C:\\\\Users\\\\Breanna.Xiong\\\\Documents\\\\R Scripts\\\\ak_aoa\\\\data\\\\aa_exploration_data\\\\natural_resources\\\\EFH Percentiles Maps (Shapefile)\\\\50th Percentile (layer 4, 5)\\\\starryflounder_ej_50th.shp', 'C:\\\\Users\\\\Breanna.Xiong\\\\Documents\\\\R Scripts\\\\ak_aoa\\\\data\\\\aa_exploration_data\\\\natural_resources\\\\EFH Percentiles Maps (Shapefile)\\\\50th Percentile (layer 4, 5)\\\\yellowfinsole_ej_50th.shp']\n"
     ]
    }
   ],
   "source": [
    "print(new_path_50th)"
   ]
  },
  {
   "cell_type": "code",
   "execution_count": 22,
   "metadata": {},
   "outputs": [
    {
     "name": "stdout",
     "output_type": "stream",
     "text": [
      "C:\\Users\\Breanna.Xiong\\Documents\\R Scripts\\ak_aoa\\data\\aa_exploration_data\\natural_resources\\EFH Percentiles Maps (Shapefile)\\pcod_ej_95th.shp\n",
      "\n",
      "\n",
      "C:\\Users\\Breanna.Xiong\\Documents\\R Scripts\\ak_aoa\\data\\aa_exploration_data\\natural_resources\\EFH Percentiles Maps (Shapefile)\\pollock_ej_95th.shp\n",
      "\n",
      "\n",
      "C:\\Users\\Breanna.Xiong\\Documents\\R Scripts\\ak_aoa\\data\\aa_exploration_data\\natural_resources\\EFH Percentiles Maps (Shapefile)\\POP_ej_95th.shp\n",
      "\n",
      "\n",
      "C:\\Users\\Breanna.Xiong\\Documents\\R Scripts\\ak_aoa\\data\\aa_exploration_data\\natural_resources\\EFH Percentiles Maps (Shapefile)\\rocksole_ej_95th.shp\n",
      "\n",
      "\n",
      "C:\\Users\\Breanna.Xiong\\Documents\\R Scripts\\ak_aoa\\data\\aa_exploration_data\\natural_resources\\EFH Percentiles Maps (Shapefile)\\sablefish_ej_95th.shp\n",
      "\n",
      "\n",
      "C:\\Users\\Breanna.Xiong\\Documents\\R Scripts\\ak_aoa\\data\\aa_exploration_data\\natural_resources\\EFH Percentiles Maps (Shapefile)\\starryflounder_ej_95th.shp\n",
      "\n",
      "\n",
      "C:\\Users\\Breanna.Xiong\\Documents\\R Scripts\\ak_aoa\\data\\aa_exploration_data\\natural_resources\\EFH Percentiles Maps (Shapefile)\\yellowfinsole_ej_95th.shp\n",
      "\n",
      "\n"
     ]
    }
   ],
   "source": [
    "# Description: Rename a file geodatabase feature class\n",
    "\n",
    "# Set local variables\n",
    "data_type = \"FeatureClass\"\n",
    "\n",
    "# Run Rename\n",
    "\n",
    "for raw, new in zip(raw_path, new_path_95th):\n",
    "    \n",
    "    arcpy.management.Rename(raw, new, data_type)\n",
    "\n",
    "    print(new)\n",
    "    print('\\n')"
   ]
  },
  {
   "cell_type": "code",
   "execution_count": 69,
   "metadata": {},
   "outputs": [
    {
     "name": "stdout",
     "output_type": "stream",
     "text": [
      "Finished with C:\\Users\\Breanna.Xiong\\Documents\\R Scripts\\ak_aoa\\data\\aa_exploration_data\\natural_resources\\EFH Percentiles Maps (Shapefile)\\50th Percentile (layer 4, 5)\\pcod_ej_50th.shp.\n",
      "\n",
      "\n",
      "Finished with C:\\Users\\Breanna.Xiong\\Documents\\R Scripts\\ak_aoa\\data\\aa_exploration_data\\natural_resources\\EFH Percentiles Maps (Shapefile)\\50th Percentile (layer 4, 5)\\pollock_ej_50th.shp.\n",
      "\n",
      "\n",
      "Finished with C:\\Users\\Breanna.Xiong\\Documents\\R Scripts\\ak_aoa\\data\\aa_exploration_data\\natural_resources\\EFH Percentiles Maps (Shapefile)\\50th Percentile (layer 4, 5)\\POP_ej_50th.shp.\n",
      "\n",
      "\n",
      "Finished with C:\\Users\\Breanna.Xiong\\Documents\\R Scripts\\ak_aoa\\data\\aa_exploration_data\\natural_resources\\EFH Percentiles Maps (Shapefile)\\50th Percentile (layer 4, 5)\\rocksole_ej_50th.shp.\n",
      "\n",
      "\n",
      "Finished with C:\\Users\\Breanna.Xiong\\Documents\\R Scripts\\ak_aoa\\data\\aa_exploration_data\\natural_resources\\EFH Percentiles Maps (Shapefile)\\50th Percentile (layer 4, 5)\\sablefish_ej_50th.shp.\n",
      "\n",
      "\n",
      "Finished with C:\\Users\\Breanna.Xiong\\Documents\\R Scripts\\ak_aoa\\data\\aa_exploration_data\\natural_resources\\EFH Percentiles Maps (Shapefile)\\50th Percentile (layer 4, 5)\\starryflounder_ej_50th.shp.\n",
      "\n",
      "\n",
      "Finished with C:\\Users\\Breanna.Xiong\\Documents\\R Scripts\\ak_aoa\\data\\aa_exploration_data\\natural_resources\\EFH Percentiles Maps (Shapefile)\\50th Percentile (layer 4, 5)\\yellowfinsole_ej_50th.shp.\n",
      "\n",
      "\n"
     ]
    }
   ],
   "source": [
    "# Get the 50th percentile (subset 'layers' with values of 4 and 5)\n",
    "\n",
    "for in_file, out_file in zip(new_path_95th, new_path_50th):\n",
    "    arcpy.conversion.ExportFeatures(\n",
    "    in_features= in_file,\n",
    "    out_features= out_file,\n",
    "    where_clause= \"layer = 4 Or layer = 5\")\n",
    "    \n",
    "    print(f'Finished with {out_file}.')\n",
    "    print('\\n')\n",
    "    "
   ]
  }
 ],
 "metadata": {
  "kernelspec": {
   "display_name": "ArcGISPro",
   "language": "Python",
   "name": "python3"
  },
  "language_info": {
   "file_extension": ".py",
   "name": "python",
   "version": "3"
  }
 },
 "nbformat": 4,
 "nbformat_minor": 2
}
